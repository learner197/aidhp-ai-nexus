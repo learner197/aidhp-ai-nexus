{
 "cells": [
  {
   "cell_type": "markdown",
   "id": "39b308e6",
   "metadata": {},
   "source": [
    "# Installing Dependencies"
   ]
  },
  {
   "cell_type": "code",
   "execution_count": 1,
   "id": "0e7a425f",
   "metadata": {},
   "outputs": [
    {
     "name": "stdout",
     "output_type": "stream",
     "text": [
      "Requirement already satisfied: pandas in c:\\users\\hp\\anaconda3\\lib\\site-packages (1.4.4)\n",
      "Requirement already satisfied: numpy in c:\\users\\hp\\anaconda3\\lib\\site-packages (1.21.5)\n",
      "Requirement already satisfied: torch in c:\\users\\hp\\anaconda3\\lib\\site-packages (2.6.0)\n",
      "Requirement already satisfied: openai in c:\\users\\hp\\anaconda3\\lib\\site-packages (0.28.0)\n",
      "Requirement already satisfied: transformers in c:\\users\\hp\\anaconda3\\lib\\site-packages (4.50.1)\n",
      "Requirement already satisfied: faker in c:\\users\\hp\\anaconda3\\lib\\site-packages (37.1.0)\n",
      "Requirement already satisfied: python-dateutil>=2.8.1 in c:\\users\\hp\\anaconda3\\lib\\site-packages (from pandas) (2.8.2)\n",
      "Requirement already satisfied: pytz>=2020.1 in c:\\users\\hp\\anaconda3\\lib\\site-packages (from pandas) (2022.1)\n",
      "Requirement already satisfied: filelock in c:\\users\\hp\\anaconda3\\lib\\site-packages (from torch) (3.6.0)\n",
      "Requirement already satisfied: typing-extensions>=4.10.0 in c:\\users\\hp\\anaconda3\\lib\\site-packages (from torch) (4.12.2)\n",
      "Requirement already satisfied: fsspec in c:\\users\\hp\\anaconda3\\lib\\site-packages (from torch) (2025.3.0)\n",
      "Requirement already satisfied: sympy==1.13.1 in c:\\users\\hp\\anaconda3\\lib\\site-packages (from torch) (1.13.1)\n",
      "Requirement already satisfied: networkx in c:\\users\\hp\\anaconda3\\lib\\site-packages (from torch) (2.8.4)\n",
      "Requirement already satisfied: jinja2 in c:\\users\\hp\\anaconda3\\lib\\site-packages (from torch) (2.11.3)\n",
      "Requirement already satisfied: mpmath<1.4,>=1.1.0 in c:\\users\\hp\\anaconda3\\lib\\site-packages (from sympy==1.13.1->torch) (1.2.1)\n",
      "Requirement already satisfied: requests>=2.20 in c:\\users\\hp\\anaconda3\\lib\\site-packages (from openai) (2.28.1)\n",
      "Requirement already satisfied: aiohttp in c:\\users\\hp\\anaconda3\\lib\\site-packages (from openai) (3.11.14)\n",
      "Requirement already satisfied: tqdm in c:\\users\\hp\\anaconda3\\lib\\site-packages (from openai) (4.64.1)\n",
      "Requirement already satisfied: tokenizers<0.22,>=0.21 in c:\\users\\hp\\anaconda3\\lib\\site-packages (from transformers) (0.21.1)\n",
      "Requirement already satisfied: safetensors>=0.4.3 in c:\\users\\hp\\anaconda3\\lib\\site-packages (from transformers) (0.5.3)\n",
      "Requirement already satisfied: pyyaml>=5.1 in c:\\users\\hp\\anaconda3\\lib\\site-packages (from transformers) (6.0)\n",
      "Requirement already satisfied: packaging>=20.0 in c:\\users\\hp\\anaconda3\\lib\\site-packages (from transformers) (21.3)\n",
      "Requirement already satisfied: huggingface-hub<1.0,>=0.26.0 in c:\\users\\hp\\anaconda3\\lib\\site-packages (from transformers) (0.29.3)\n",
      "Requirement already satisfied: regex!=2019.12.17 in c:\\users\\hp\\anaconda3\\lib\\site-packages (from transformers) (2022.7.9)\n",
      "Requirement already satisfied: tzdata in c:\\users\\hp\\anaconda3\\lib\\site-packages (from faker) (2025.2)\n",
      "Requirement already satisfied: pyparsing!=3.0.5,>=2.0.2 in c:\\users\\hp\\anaconda3\\lib\\site-packages (from packaging>=20.0->transformers) (3.0.9)\n",
      "Requirement already satisfied: six>=1.5 in c:\\users\\hp\\anaconda3\\lib\\site-packages (from python-dateutil>=2.8.1->pandas) (1.16.0)\n",
      "Requirement already satisfied: charset-normalizer<3,>=2 in c:\\users\\hp\\anaconda3\\lib\\site-packages (from requests>=2.20->openai) (2.0.4)\n",
      "Requirement already satisfied: urllib3<1.27,>=1.21.1 in c:\\users\\hp\\anaconda3\\lib\\site-packages (from requests>=2.20->openai) (1.26.11)\n",
      "Requirement already satisfied: certifi>=2017.4.17 in c:\\users\\hp\\anaconda3\\lib\\site-packages (from requests>=2.20->openai) (2022.9.14)\n",
      "Requirement already satisfied: idna<4,>=2.5 in c:\\users\\hp\\anaconda3\\lib\\site-packages (from requests>=2.20->openai) (3.3)\n",
      "Requirement already satisfied: colorama in c:\\users\\hp\\anaconda3\\lib\\site-packages (from tqdm->openai) (0.4.5)\n",
      "Requirement already satisfied: aiosignal>=1.1.2 in c:\\users\\hp\\anaconda3\\lib\\site-packages (from aiohttp->openai) (1.3.2)\n",
      "Requirement already satisfied: frozenlist>=1.1.1 in c:\\users\\hp\\anaconda3\\lib\\site-packages (from aiohttp->openai) (1.5.0)\n",
      "Requirement already satisfied: multidict<7.0,>=4.5 in c:\\users\\hp\\anaconda3\\lib\\site-packages (from aiohttp->openai) (6.2.0)\n",
      "Requirement already satisfied: async-timeout<6.0,>=4.0 in c:\\users\\hp\\anaconda3\\lib\\site-packages (from aiohttp->openai) (5.0.1)\n",
      "Requirement already satisfied: attrs>=17.3.0 in c:\\users\\hp\\anaconda3\\lib\\site-packages (from aiohttp->openai) (21.4.0)\n",
      "Requirement already satisfied: yarl<2.0,>=1.17.0 in c:\\users\\hp\\anaconda3\\lib\\site-packages (from aiohttp->openai) (1.18.3)\n",
      "Requirement already satisfied: propcache>=0.2.0 in c:\\users\\hp\\anaconda3\\lib\\site-packages (from aiohttp->openai) (0.3.0)\n",
      "Requirement already satisfied: aiohappyeyeballs>=2.3.0 in c:\\users\\hp\\anaconda3\\lib\\site-packages (from aiohttp->openai) (2.6.1)\n",
      "Requirement already satisfied: MarkupSafe>=0.23 in c:\\users\\hp\\anaconda3\\lib\\site-packages (from jinja2->torch) (2.0.1)\n",
      "Note: you may need to restart the kernel to use updated packages.\n"
     ]
    }
   ],
   "source": [
    "pip install pandas numpy torch openai transformers faker"
   ]
  },
  {
   "cell_type": "markdown",
   "id": "b9ab98e1",
   "metadata": {},
   "source": [
    "# Preparing Data"
   ]
  },
  {
   "cell_type": "code",
   "execution_count": 96,
   "id": "7b093bff",
   "metadata": {},
   "outputs": [
    {
     "name": "stdout",
     "output_type": "stream",
     "text": [
      "CSV files generated successfully, and Saved in the Folder in which this file is saved.\n"
     ]
    }
   ],
   "source": [
    "import pandas as pd\n",
    "import random\n",
    "import uuid\n",
    "from faker import Faker\n",
    "\n",
    "fake = Faker()\n",
    "\n",
    "# Number of records per table\n",
    "num_customers = 1000\n",
    "num_organizations = 200\n",
    "num_transactions = 3000\n",
    "num_sentiments = 2000\n",
    "\n",
    "# ------------------- Customer Profiles -------------------\n",
    "customers = []\n",
    "for i in range(num_customers):\n",
    "    customers.append({\n",
    "        \"customer_id\": str('CUSTID_'+str(i)),\n",
    "        \"name\": fake.name(),\n",
    "        \"age\": random.randint(18, 65),\n",
    "        \"gender\": random.choice([\"Male\", \"Female\"]),\n",
    "        \"education\": random.choice([\"High School\", \"Bachelor's\", \"Master's\", \"PhD\"]),\n",
    "        \"occupation\": fake.job(),\n",
    "        \"income\": random.randint(30000, 150000),\n",
    "        \"interests\": random.choice([\"Technology\",\"Entertainment\", \"Finance\", \"Sports\", \"Music\", \"Fashion\",\"Beauty\", \"Gaming\",\"Home-Decor\",\"Books, Science\"]),\n",
    "        \"preferences\": random.choice([\"Budget\", \"Luxury\", \"Eco-Friendly\",\"Tech-Savvy, AI\", \"Fashion\", \"Beauty\"])\n",
    "    })\n",
    "\n",
    "df_customers = pd.DataFrame(customers)\n",
    "df_customers.to_csv(\"customer_profiles.csv\", index=False)\n",
    "\n",
    "# ------------------- Organization Information -------------------\n",
    "organizations = []\n",
    "for i in range(num_organizations):\n",
    "    organizations.append({\n",
    "        \"organization_id\": str('ORGID_'+str(i)),\n",
    "        \"company_name\": fake.company(),\n",
    "        \"industry\": random.choice([\"Electronics\",\"Entertainment\", \"Finance\", \"Fashion\", \"Software\",\"Retail\", \"Technology\", \"Automotive\", \"Healthcare\"]),\n",
    "        \"price_range\": random.choice([\"Low\", \"Medium\", \"High\", \"Premium\"]),\n",
    "        \"flagship_product\": fake.word(),\n",
    "        \"revenue\": random.randint(1_000_000, 5_000_000),\n",
    "        \"num_employees\": random.randint(50, 5000)\n",
    "    })\n",
    "\n",
    "df_organizations = pd.DataFrame(organizations)\n",
    "df_organizations.to_csv(\"organization_info.csv\", index=False)\n",
    "\n",
    "# ------------------- Transaction History -------------------\n",
    "transactions = []\n",
    "for _ in range(num_transactions):\n",
    "    transactions.append({\n",
    "        \"transaction_id\": str(uuid.uuid4()),\n",
    "        \"customer_id\": random.choice(df_customers[\"customer_id\"].tolist()),  # Ensuring valid customer_id\n",
    "        \"item_purchased\": fake.word(),\n",
    "        \"category\": random.choice([\"Electronics\",\"Entertainment\", \"Finance\", \"Clothing\", \"Furniture\", \"Books\",\"Fashion\", \"Software\", \"Healthcare\"]),\n",
    "        \"organization_id\": random.choice(df_organizations[\"organization_id\"].tolist()),  # Ensuring valid organization_id\n",
    "        \"price\": round(random.uniform(10, 1000), 2),\n",
    "        \"payment_mode\": random.choice([\"Credit Card\", \"Debit Card\", \"PayPal\", \"Net Banking\"]),\n",
    "        \"purchase_date\": fake.date_this_decade()\n",
    "    })\n",
    "\n",
    "df_transactions = pd.DataFrame(transactions)\n",
    "df_transactions.to_csv(\"transaction_history.csv\", index=False)\n",
    "\n",
    "# ------------------- Social Media Sentiments -------------------\n",
    "sentiments = []\n",
    "for _ in range(num_sentiments):\n",
    "    sentiments.append({\n",
    "        \"sentiment_id\": str(uuid.uuid4()),\n",
    "        \"customer_id\": random.choice(df_customers[\"customer_id\"].tolist()),  # Ensuring valid customer_id\n",
    "        \"organization_id\": random.choice(df_organizations[\"organization_id\"].tolist()),  # Ensuring valid organization_id\n",
    "        \"sentiment_score\": round(random.uniform(-1, 1), 2),  # Score between -1 (negative) and 1 (positive)\n",
    "        \"platform\": random.choice([\"Twitter\", \"Facebook\", \"Reddit\"]),\n",
    "        \"review_text\": random.choice([\n",
    "        \"Excellent service!\", \"Not satisfied.\", \"Great product!\", \"Could be better.\", \"Highly recommended!\",\n",
    "        \"Poor experience.\", \"Loved it!\", \"Would buy again.\", \"Too expensive.\", \"Value for money.\"\n",
    "    ]),\n",
    "        \"timestamp\": fake.date_time_this_decade()\n",
    "    })\n",
    "\n",
    "df_sentiments = pd.DataFrame(sentiments)\n",
    "df_sentiments.to_csv(\"social_media_sentiments.csv\", index=False)\n",
    "\n",
    "print(\"CSV files generated successfully, and Saved in the Folder in which this file is saved.\")\n",
    "\n",
    "customer_profiles = pd.read_csv(\"customer_profiles.csv\")\n",
    "organizations = pd.read_csv(\"organization_info.csv\")\n",
    "transactions = pd.read_csv(\"transaction_history.csv\")\n",
    "social_sentiment = pd.read_csv(\"social_media_sentiments.csv\")"
   ]
  },
  {
   "cell_type": "markdown",
   "id": "0ae03624",
   "metadata": {},
   "source": [
    "# Customer Profiles, Organizations, Transactions History, Social Media Sentiment tables"
   ]
  },
  {
   "cell_type": "code",
   "execution_count": 97,
   "id": "6e9ccccd",
   "metadata": {},
   "outputs": [
    {
     "name": "stdout",
     "output_type": "stream",
     "text": [
      "\n",
      "Customer Profiles:\n",
      "\n"
     ]
    },
    {
     "data": {
      "text/html": [
       "<div>\n",
       "<style scoped>\n",
       "    .dataframe tbody tr th:only-of-type {\n",
       "        vertical-align: middle;\n",
       "    }\n",
       "\n",
       "    .dataframe tbody tr th {\n",
       "        vertical-align: top;\n",
       "    }\n",
       "\n",
       "    .dataframe thead th {\n",
       "        text-align: right;\n",
       "    }\n",
       "</style>\n",
       "<table border=\"1\" class=\"dataframe\">\n",
       "  <thead>\n",
       "    <tr style=\"text-align: right;\">\n",
       "      <th></th>\n",
       "      <th>customer_id</th>\n",
       "      <th>name</th>\n",
       "      <th>age</th>\n",
       "      <th>gender</th>\n",
       "      <th>education</th>\n",
       "      <th>occupation</th>\n",
       "      <th>income</th>\n",
       "      <th>interests</th>\n",
       "      <th>preferences</th>\n",
       "    </tr>\n",
       "  </thead>\n",
       "  <tbody>\n",
       "    <tr>\n",
       "      <th>0</th>\n",
       "      <td>CUSTID_0</td>\n",
       "      <td>Meagan Andrade</td>\n",
       "      <td>35</td>\n",
       "      <td>Female</td>\n",
       "      <td>Master's</td>\n",
       "      <td>Nurse, children's</td>\n",
       "      <td>85806</td>\n",
       "      <td>Fashion</td>\n",
       "      <td>Beauty</td>\n",
       "    </tr>\n",
       "    <tr>\n",
       "      <th>1</th>\n",
       "      <td>CUSTID_1</td>\n",
       "      <td>Lindsey Chase</td>\n",
       "      <td>50</td>\n",
       "      <td>Female</td>\n",
       "      <td>High School</td>\n",
       "      <td>Electronics engineer</td>\n",
       "      <td>47162</td>\n",
       "      <td>Gaming</td>\n",
       "      <td>Fashion</td>\n",
       "    </tr>\n",
       "    <tr>\n",
       "      <th>2</th>\n",
       "      <td>CUSTID_2</td>\n",
       "      <td>James Roberts</td>\n",
       "      <td>57</td>\n",
       "      <td>Female</td>\n",
       "      <td>Bachelor's</td>\n",
       "      <td>Analytical chemist</td>\n",
       "      <td>126874</td>\n",
       "      <td>Gaming</td>\n",
       "      <td>Luxury</td>\n",
       "    </tr>\n",
       "    <tr>\n",
       "      <th>3</th>\n",
       "      <td>CUSTID_3</td>\n",
       "      <td>Raven Lopez</td>\n",
       "      <td>60</td>\n",
       "      <td>Female</td>\n",
       "      <td>Master's</td>\n",
       "      <td>Nurse, children's</td>\n",
       "      <td>138123</td>\n",
       "      <td>Music</td>\n",
       "      <td>Luxury</td>\n",
       "    </tr>\n",
       "    <tr>\n",
       "      <th>4</th>\n",
       "      <td>CUSTID_4</td>\n",
       "      <td>Keith Reed</td>\n",
       "      <td>27</td>\n",
       "      <td>Male</td>\n",
       "      <td>PhD</td>\n",
       "      <td>Media planner</td>\n",
       "      <td>132844</td>\n",
       "      <td>Music</td>\n",
       "      <td>Eco-Friendly</td>\n",
       "    </tr>\n",
       "  </tbody>\n",
       "</table>\n",
       "</div>"
      ],
      "text/plain": [
       "  customer_id            name  age  gender    education            occupation  \\\n",
       "0    CUSTID_0  Meagan Andrade   35  Female     Master's     Nurse, children's   \n",
       "1    CUSTID_1   Lindsey Chase   50  Female  High School  Electronics engineer   \n",
       "2    CUSTID_2   James Roberts   57  Female   Bachelor's    Analytical chemist   \n",
       "3    CUSTID_3     Raven Lopez   60  Female     Master's     Nurse, children's   \n",
       "4    CUSTID_4      Keith Reed   27    Male          PhD         Media planner   \n",
       "\n",
       "   income interests   preferences  \n",
       "0   85806   Fashion        Beauty  \n",
       "1   47162    Gaming       Fashion  \n",
       "2  126874    Gaming        Luxury  \n",
       "3  138123     Music        Luxury  \n",
       "4  132844     Music  Eco-Friendly  "
      ]
     },
     "execution_count": 97,
     "metadata": {},
     "output_type": "execute_result"
    }
   ],
   "source": [
    "\n",
    "print(\"\\nCustomer Profiles:\\n\")\n",
    "customer_profiles.head()"
   ]
  },
  {
   "cell_type": "code",
   "execution_count": 98,
   "id": "74462124",
   "metadata": {},
   "outputs": [
    {
     "name": "stdout",
     "output_type": "stream",
     "text": [
      "\n",
      "Organizations:\n",
      "\n"
     ]
    },
    {
     "data": {
      "text/html": [
       "<div>\n",
       "<style scoped>\n",
       "    .dataframe tbody tr th:only-of-type {\n",
       "        vertical-align: middle;\n",
       "    }\n",
       "\n",
       "    .dataframe tbody tr th {\n",
       "        vertical-align: top;\n",
       "    }\n",
       "\n",
       "    .dataframe thead th {\n",
       "        text-align: right;\n",
       "    }\n",
       "</style>\n",
       "<table border=\"1\" class=\"dataframe\">\n",
       "  <thead>\n",
       "    <tr style=\"text-align: right;\">\n",
       "      <th></th>\n",
       "      <th>organization_id</th>\n",
       "      <th>company_name</th>\n",
       "      <th>industry</th>\n",
       "      <th>price_range</th>\n",
       "      <th>flagship_product</th>\n",
       "      <th>revenue</th>\n",
       "      <th>num_employees</th>\n",
       "    </tr>\n",
       "  </thead>\n",
       "  <tbody>\n",
       "    <tr>\n",
       "      <th>0</th>\n",
       "      <td>ORGID_0</td>\n",
       "      <td>Schultz-Shaw</td>\n",
       "      <td>Technology</td>\n",
       "      <td>Low</td>\n",
       "      <td>forward</td>\n",
       "      <td>4501094</td>\n",
       "      <td>3925</td>\n",
       "    </tr>\n",
       "    <tr>\n",
       "      <th>1</th>\n",
       "      <td>ORGID_1</td>\n",
       "      <td>Mcmahon, Sanchez and Rangel</td>\n",
       "      <td>Entertainment</td>\n",
       "      <td>Low</td>\n",
       "      <td>involve</td>\n",
       "      <td>3709327</td>\n",
       "      <td>3323</td>\n",
       "    </tr>\n",
       "    <tr>\n",
       "      <th>2</th>\n",
       "      <td>ORGID_2</td>\n",
       "      <td>Miller, Koch and Miller</td>\n",
       "      <td>Software</td>\n",
       "      <td>Medium</td>\n",
       "      <td>student</td>\n",
       "      <td>2209367</td>\n",
       "      <td>2572</td>\n",
       "    </tr>\n",
       "    <tr>\n",
       "      <th>3</th>\n",
       "      <td>ORGID_3</td>\n",
       "      <td>Ortiz-Hines</td>\n",
       "      <td>Healthcare</td>\n",
       "      <td>Low</td>\n",
       "      <td>special</td>\n",
       "      <td>3843027</td>\n",
       "      <td>872</td>\n",
       "    </tr>\n",
       "    <tr>\n",
       "      <th>4</th>\n",
       "      <td>ORGID_4</td>\n",
       "      <td>Cox-Manning</td>\n",
       "      <td>Fashion</td>\n",
       "      <td>Low</td>\n",
       "      <td>kind</td>\n",
       "      <td>4303230</td>\n",
       "      <td>2883</td>\n",
       "    </tr>\n",
       "  </tbody>\n",
       "</table>\n",
       "</div>"
      ],
      "text/plain": [
       "  organization_id                 company_name       industry price_range  \\\n",
       "0         ORGID_0                 Schultz-Shaw     Technology         Low   \n",
       "1         ORGID_1  Mcmahon, Sanchez and Rangel  Entertainment         Low   \n",
       "2         ORGID_2      Miller, Koch and Miller       Software      Medium   \n",
       "3         ORGID_3                  Ortiz-Hines     Healthcare         Low   \n",
       "4         ORGID_4                  Cox-Manning        Fashion         Low   \n",
       "\n",
       "  flagship_product  revenue  num_employees  \n",
       "0          forward  4501094           3925  \n",
       "1          involve  3709327           3323  \n",
       "2          student  2209367           2572  \n",
       "3          special  3843027            872  \n",
       "4             kind  4303230           2883  "
      ]
     },
     "execution_count": 98,
     "metadata": {},
     "output_type": "execute_result"
    }
   ],
   "source": [
    "print(\"\\nOrganizations:\\n\")\n",
    "organizations.head()"
   ]
  },
  {
   "cell_type": "code",
   "execution_count": 99,
   "id": "b7d41a0c",
   "metadata": {},
   "outputs": [
    {
     "name": "stdout",
     "output_type": "stream",
     "text": [
      "\n",
      "Transactions History:\n",
      "\n"
     ]
    },
    {
     "data": {
      "text/html": [
       "<div>\n",
       "<style scoped>\n",
       "    .dataframe tbody tr th:only-of-type {\n",
       "        vertical-align: middle;\n",
       "    }\n",
       "\n",
       "    .dataframe tbody tr th {\n",
       "        vertical-align: top;\n",
       "    }\n",
       "\n",
       "    .dataframe thead th {\n",
       "        text-align: right;\n",
       "    }\n",
       "</style>\n",
       "<table border=\"1\" class=\"dataframe\">\n",
       "  <thead>\n",
       "    <tr style=\"text-align: right;\">\n",
       "      <th></th>\n",
       "      <th>transaction_id</th>\n",
       "      <th>customer_id</th>\n",
       "      <th>item_purchased</th>\n",
       "      <th>category</th>\n",
       "      <th>organization_id</th>\n",
       "      <th>price</th>\n",
       "      <th>payment_mode</th>\n",
       "      <th>purchase_date</th>\n",
       "    </tr>\n",
       "  </thead>\n",
       "  <tbody>\n",
       "    <tr>\n",
       "      <th>0</th>\n",
       "      <td>ab0081a6-b058-4674-ad96-be24d374f1ea</td>\n",
       "      <td>CUSTID_477</td>\n",
       "      <td>hope</td>\n",
       "      <td>Healthcare</td>\n",
       "      <td>ORGID_13</td>\n",
       "      <td>632.56</td>\n",
       "      <td>Net Banking</td>\n",
       "      <td>2020-09-21</td>\n",
       "    </tr>\n",
       "    <tr>\n",
       "      <th>1</th>\n",
       "      <td>53ac08b2-134a-4cf2-b68e-0b90d984082a</td>\n",
       "      <td>CUSTID_729</td>\n",
       "      <td>sell</td>\n",
       "      <td>Furniture</td>\n",
       "      <td>ORGID_77</td>\n",
       "      <td>994.74</td>\n",
       "      <td>Debit Card</td>\n",
       "      <td>2022-12-16</td>\n",
       "    </tr>\n",
       "    <tr>\n",
       "      <th>2</th>\n",
       "      <td>6c65cefb-76af-407e-9f22-989ce7b9ba44</td>\n",
       "      <td>CUSTID_636</td>\n",
       "      <td>perhaps</td>\n",
       "      <td>Finance</td>\n",
       "      <td>ORGID_32</td>\n",
       "      <td>445.53</td>\n",
       "      <td>PayPal</td>\n",
       "      <td>2020-04-19</td>\n",
       "    </tr>\n",
       "    <tr>\n",
       "      <th>3</th>\n",
       "      <td>a59c1f45-912c-436c-8e90-5232dc495c4e</td>\n",
       "      <td>CUSTID_934</td>\n",
       "      <td>look</td>\n",
       "      <td>Clothing</td>\n",
       "      <td>ORGID_1</td>\n",
       "      <td>64.53</td>\n",
       "      <td>Debit Card</td>\n",
       "      <td>2020-06-28</td>\n",
       "    </tr>\n",
       "    <tr>\n",
       "      <th>4</th>\n",
       "      <td>0bd1bcc0-28e8-44ce-affc-02177b35e00a</td>\n",
       "      <td>CUSTID_425</td>\n",
       "      <td>history</td>\n",
       "      <td>Entertainment</td>\n",
       "      <td>ORGID_175</td>\n",
       "      <td>194.60</td>\n",
       "      <td>Debit Card</td>\n",
       "      <td>2024-12-06</td>\n",
       "    </tr>\n",
       "  </tbody>\n",
       "</table>\n",
       "</div>"
      ],
      "text/plain": [
       "                         transaction_id customer_id item_purchased  \\\n",
       "0  ab0081a6-b058-4674-ad96-be24d374f1ea  CUSTID_477           hope   \n",
       "1  53ac08b2-134a-4cf2-b68e-0b90d984082a  CUSTID_729           sell   \n",
       "2  6c65cefb-76af-407e-9f22-989ce7b9ba44  CUSTID_636        perhaps   \n",
       "3  a59c1f45-912c-436c-8e90-5232dc495c4e  CUSTID_934           look   \n",
       "4  0bd1bcc0-28e8-44ce-affc-02177b35e00a  CUSTID_425        history   \n",
       "\n",
       "        category organization_id   price payment_mode purchase_date  \n",
       "0     Healthcare        ORGID_13  632.56  Net Banking    2020-09-21  \n",
       "1      Furniture        ORGID_77  994.74   Debit Card    2022-12-16  \n",
       "2        Finance        ORGID_32  445.53       PayPal    2020-04-19  \n",
       "3       Clothing         ORGID_1   64.53   Debit Card    2020-06-28  \n",
       "4  Entertainment       ORGID_175  194.60   Debit Card    2024-12-06  "
      ]
     },
     "execution_count": 99,
     "metadata": {},
     "output_type": "execute_result"
    }
   ],
   "source": [
    "print(\"\\nTransactions History:\\n\")\n",
    "transactions.head()"
   ]
  },
  {
   "cell_type": "code",
   "execution_count": 100,
   "id": "4e238c1a",
   "metadata": {},
   "outputs": [
    {
     "name": "stdout",
     "output_type": "stream",
     "text": [
      "\n",
      "Social Media Sentiment:\n",
      "\n"
     ]
    },
    {
     "data": {
      "text/html": [
       "<div>\n",
       "<style scoped>\n",
       "    .dataframe tbody tr th:only-of-type {\n",
       "        vertical-align: middle;\n",
       "    }\n",
       "\n",
       "    .dataframe tbody tr th {\n",
       "        vertical-align: top;\n",
       "    }\n",
       "\n",
       "    .dataframe thead th {\n",
       "        text-align: right;\n",
       "    }\n",
       "</style>\n",
       "<table border=\"1\" class=\"dataframe\">\n",
       "  <thead>\n",
       "    <tr style=\"text-align: right;\">\n",
       "      <th></th>\n",
       "      <th>sentiment_id</th>\n",
       "      <th>customer_id</th>\n",
       "      <th>organization_id</th>\n",
       "      <th>sentiment_score</th>\n",
       "      <th>platform</th>\n",
       "      <th>review_text</th>\n",
       "      <th>timestamp</th>\n",
       "    </tr>\n",
       "  </thead>\n",
       "  <tbody>\n",
       "    <tr>\n",
       "      <th>0</th>\n",
       "      <td>96e06985-bf6e-4f21-8ee4-dece0e5d3340</td>\n",
       "      <td>CUSTID_941</td>\n",
       "      <td>ORGID_88</td>\n",
       "      <td>-0.24</td>\n",
       "      <td>Reddit</td>\n",
       "      <td>Could be better.</td>\n",
       "      <td>2022-03-10 13:00:36</td>\n",
       "    </tr>\n",
       "    <tr>\n",
       "      <th>1</th>\n",
       "      <td>badc4ca2-fc2f-45a2-b79e-6c721264be80</td>\n",
       "      <td>CUSTID_386</td>\n",
       "      <td>ORGID_49</td>\n",
       "      <td>0.22</td>\n",
       "      <td>Twitter</td>\n",
       "      <td>Great product!</td>\n",
       "      <td>2023-11-11 20:30:30</td>\n",
       "    </tr>\n",
       "    <tr>\n",
       "      <th>2</th>\n",
       "      <td>6b1a833e-0cbd-476c-b6d0-f08512ec528e</td>\n",
       "      <td>CUSTID_165</td>\n",
       "      <td>ORGID_31</td>\n",
       "      <td>-0.44</td>\n",
       "      <td>Facebook</td>\n",
       "      <td>Poor experience.</td>\n",
       "      <td>2021-10-11 05:49:26</td>\n",
       "    </tr>\n",
       "    <tr>\n",
       "      <th>3</th>\n",
       "      <td>e7917bc9-6146-474d-9533-384d7843ea77</td>\n",
       "      <td>CUSTID_317</td>\n",
       "      <td>ORGID_14</td>\n",
       "      <td>0.16</td>\n",
       "      <td>Facebook</td>\n",
       "      <td>Highly recommended!</td>\n",
       "      <td>2020-02-14 01:58:58</td>\n",
       "    </tr>\n",
       "    <tr>\n",
       "      <th>4</th>\n",
       "      <td>28e9ee28-9655-4c10-8718-24867a2a55fb</td>\n",
       "      <td>CUSTID_879</td>\n",
       "      <td>ORGID_3</td>\n",
       "      <td>-0.52</td>\n",
       "      <td>Twitter</td>\n",
       "      <td>Value for money.</td>\n",
       "      <td>2022-05-31 05:09:41</td>\n",
       "    </tr>\n",
       "  </tbody>\n",
       "</table>\n",
       "</div>"
      ],
      "text/plain": [
       "                           sentiment_id customer_id organization_id  \\\n",
       "0  96e06985-bf6e-4f21-8ee4-dece0e5d3340  CUSTID_941        ORGID_88   \n",
       "1  badc4ca2-fc2f-45a2-b79e-6c721264be80  CUSTID_386        ORGID_49   \n",
       "2  6b1a833e-0cbd-476c-b6d0-f08512ec528e  CUSTID_165        ORGID_31   \n",
       "3  e7917bc9-6146-474d-9533-384d7843ea77  CUSTID_317        ORGID_14   \n",
       "4  28e9ee28-9655-4c10-8718-24867a2a55fb  CUSTID_879         ORGID_3   \n",
       "\n",
       "   sentiment_score  platform          review_text            timestamp  \n",
       "0            -0.24    Reddit     Could be better.  2022-03-10 13:00:36  \n",
       "1             0.22   Twitter       Great product!  2023-11-11 20:30:30  \n",
       "2            -0.44  Facebook     Poor experience.  2021-10-11 05:49:26  \n",
       "3             0.16  Facebook  Highly recommended!  2020-02-14 01:58:58  \n",
       "4            -0.52   Twitter     Value for money.  2022-05-31 05:09:41  "
      ]
     },
     "execution_count": 100,
     "metadata": {},
     "output_type": "execute_result"
    }
   ],
   "source": [
    "print(\"\\nSocial Media Sentiment:\\n\")\n",
    "social_sentiment.head()"
   ]
  },
  {
   "cell_type": "code",
   "execution_count": null,
   "id": "e7416815",
   "metadata": {},
   "outputs": [],
   "source": []
  },
  {
   "cell_type": "code",
   "execution_count": null,
   "id": "231d8ded",
   "metadata": {},
   "outputs": [],
   "source": []
  },
  {
   "cell_type": "markdown",
   "id": "0c677954",
   "metadata": {},
   "source": []
  },
  {
   "cell_type": "code",
   "execution_count": 101,
   "id": "6b264323",
   "metadata": {
    "scrolled": true
   },
   "outputs": [
    {
     "data": {
      "image/png": "[encoded data removed]",
      "text/plain": [
       "<Figure size 640x480 with 1 Axes>"
      ]
     },
     "metadata": {},
     "output_type": "display_data"
    }
   ],
   "source": [
    "import pandas as pd\n",
    "import matplotlib.pyplot as plt\n",
    "from transformers import pipeline\n",
    "\n",
    "\n",
    "# Preprocessing Example\n",
    "def preprocess_text(text):\n",
    "    text = text.lower()\n",
    "    return text.strip()\n",
    "\n",
    "customer_profiles['processed_interests'] = customer_profiles['interests'].apply(preprocess_text)\n",
    "customer_profiles['processed_preferences'] = customer_profiles['preferences'].apply(preprocess_text)\n",
    "\n",
    "# Visualization\n",
    "plt.hist(customer_profiles['income'], bins=20, color='blue', alpha=0.7)\n",
    "plt.xlabel('Income')\n",
    "plt.ylabel('Number of Customers')\n",
    "plt.title('Customer Income Distribution')\n",
    "plt.show()"
   ]
  },
  {
   "cell_type": "markdown",
   "id": "e8f73793",
   "metadata": {},
   "source": [
    "# K-MEANS CLUSTERING"
   ]
  },
  {
   "cell_type": "code",
   "execution_count": 102,
   "id": "41d6c1ef",
   "metadata": {},
   "outputs": [],
   "source": [
    "from sklearn.cluster import KMeans\n",
    "from sklearn.preprocessing import StandardScaler, OneHotEncoder\n",
    "import pandas as pd\n",
    "import numpy as np\n",
    "customer_data = pd.read_csv('customer_profiles.csv')\n",
    "numerical_features = ['age', 'income']\n",
    "categorical_features = ['preferences', 'interests', 'occupation','education']\n",
    "\n",
    "# One-Hot Encode categorical columns\n",
    "encoder = OneHotEncoder(sparse=False, drop='first')\n",
    "encoded_cats = encoder.fit_transform(customer_data[categorical_features])\n",
    "\n",
    "# Convert encoded categorical data to DataFrame\n",
    "encoded_df = pd.DataFrame(encoded_cats, columns=encoder.get_feature_names_out())\n",
    "\n",
    "# Standardize numerical features\n",
    "scaler = StandardScaler()\n",
    "scaled_numerical = scaler.fit_transform(customer_data[numerical_features])\n",
    "scaled_df = pd.DataFrame(scaled_numerical, columns=numerical_features)\n",
    "\n",
    "# Combine transformed categorical and numerical features\n",
    "final_features = pd.concat([scaled_df, encoded_df], axis=1)"
   ]
  },
  {
   "cell_type": "code",
   "execution_count": 139,
   "id": "d13d8878",
   "metadata": {},
   "outputs": [],
   "source": [
    "# Feature Selection\n",
    "# features = customer_data[['age', 'education','occupation','income','interests','preferences']]\n",
    "features = customer_data[['age', 'income']]\n",
    "\n",
    "# Apply K-Means Clustering\n",
    "kmeans = KMeans(n_clusters=5, random_state=42)\n",
    "customer_data['Cluster'] = kmeans.fit_predict(features)\n",
    "\n",
    "# Recommend products based on cluster assignment\n",
    "def recommend_products(customer_id):\n",
    "    cluster = customer_data[customer_data['customer_id'] == customer_id]['Cluster'].values[0]\n",
    "    similar_customers = customer_data[customer_data['Cluster'] == cluster]\n",
    "    return similar_customers['preferences'].value_counts().index.tolist()\n"
   ]
  },
  {
   "cell_type": "markdown",
   "id": "da945358",
   "metadata": {},
   "source": [
    "#### "
   ]
  },
  {
   "cell_type": "code",
   "execution_count": 140,
   "id": "412f4b2d",
   "metadata": {},
   "outputs": [
    {
     "name": "stdout",
     "output_type": "stream",
     "text": [
      "['Budget', 'Tech-Savvy, AI', 'Fashion', 'Luxury', 'Beauty', 'Eco-Friendly']\n"
     ]
    }
   ],
   "source": [
    "print(recommend_products('CUSTID_163'))"
   ]
  },
  {
   "cell_type": "code",
   "execution_count": 143,
   "id": "b341fe5e",
   "metadata": {},
   "outputs": [
    {
     "name": "stdout",
     "output_type": "stream",
     "text": [
      "['Fashion', 'Tech-Savvy, AI', 'Beauty', 'Luxury', 'Eco-Friendly', 'Budget']\n"
     ]
    }
   ],
   "source": [
    "print(recommend_products('CUSTID_132'))"
   ]
  },
  {
   "cell_type": "code",
   "execution_count": 145,
   "id": "88246814",
   "metadata": {},
   "outputs": [
    {
     "name": "stdout",
     "output_type": "stream",
     "text": [
      "['Eco-Friendly', 'Tech-Savvy, AI', 'Beauty', 'Fashion', 'Luxury', 'Budget']\n"
     ]
    }
   ],
   "source": [
    "print(recommend_products('CUSTID_193'))"
   ]
  },
  {
   "cell_type": "code",
   "execution_count": 147,
   "id": "e8ad5d75",
   "metadata": {},
   "outputs": [
    {
     "name": "stdout",
     "output_type": "stream",
     "text": [
      "['Beauty', 'Budget', 'Luxury', 'Fashion', 'Eco-Friendly', 'Tech-Savvy, AI']\n"
     ]
    }
   ],
   "source": [
    "print(recommend_products('CUSTID_64'))"
   ]
  },
  {
   "cell_type": "code",
   "execution_count": null,
   "id": "2b9bf77c",
   "metadata": {},
   "outputs": [],
   "source": []
  },
  {
   "cell_type": "code",
   "execution_count": null,
   "id": "97cc16f6",
   "metadata": {},
   "outputs": [],
   "source": []
  }
 ],
 "metadata": {
  "kernelspec": {
   "display_name": "Python 3 (ipykernel)",
   "language": "python",
   "name": "python3"
  },
  "language_info": {
   "codemirror_mode": {
    "name": "ipython",
    "version": 3
   },
   "file_extension": ".py",
   "mimetype": "text/x-python",
   "name": "python",
   "nbconvert_exporter": "python",
   "pygments_lexer": "ipython3",
   "version": "3.9.13"
  }
 },
 "nbformat": 4,
 "nbformat_minor": 5
}
